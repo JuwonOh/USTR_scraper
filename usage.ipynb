{
 "cells": [
  {
   "cell_type": "code",
   "execution_count": 1,
   "metadata": {
    "scrolled": true
   },
   "outputs": [
    {
     "name": "stdout",
     "output_type": "stream",
     "text": [
      "get briefing statement urls 2019 / 2018\n",
      "get briefing statement urls 2019 / 2018\n",
      "126 urls for all news\n"
     ]
    }
   ],
   "source": [
    "import time\n",
    "import USTR_scraper\n",
    "from USTR_scraper import get_allnews_urls\n",
    "from USTR_scraper import parse_page\n",
    "from USTR_scraper import get_soup\n",
    "\n",
    "USTR_urls = get_allnews_urls(begin_year=2019, end_year=2018, verbose=True)\n",
    "print('%d urls for all news' % len(USTR_urls))\n"
   ]
  },
  {
   "cell_type": "code",
   "execution_count": 2,
   "metadata": {
    "scrolled": true
   },
   "outputs": [
    {
     "name": "stdout",
     "output_type": "stream",
     "text": [
      "title : USTR Statement on the EU’s Consultation Request at the WTO ..\n",
      "time : 01/29/2019 ..\n",
      "content :  Washington, DC – Today, the United States received from the European Union (EU) a request for consu ..\n",
      "url : https://ustr.gov/about-us/policy-offices/press-office/press-releases/2019/january/ustr-statement-eu’ ..\n",
      "scrap_time : 2019-02-01-04 07:39:21 ..\n",
      "\n",
      "\n",
      "title : Public Hearing on Negotiating Objectives for U.S.-UK Trade Agreement ..\n",
      "time : 01/28/2019 ..\n",
      "content :  The Office of the U.S. Trade Representative (USTR) will hold a public hearing from 9:30 AM – 4:00 P ..\n",
      "url : https://ustr.gov/about-us/policy-offices/press-office/press-releases/2019/january/public-hearing-neg ..\n",
      "scrap_time : 2019-02-01-04 07:39:22 ..\n",
      "\n",
      "\n",
      "title : USTR Operating Status ..\n",
      "time : 01/26/2019 ..\n",
      "content :  USTR has returned to full operating status. On Monday, January 28, all USTR personnel will resume a ..\n",
      "url : https://ustr.gov/about-us/policy-offices/press-office/press-releases/2019/january/ustr-operating-sta ..\n",
      "scrap_time : 2019-02-01-04 07:39:24 ..\n",
      "\n",
      "\n",
      "title : USTR Robert Lighthizer on the Joint Statement on Electronic Commerce ..\n",
      "time : 01/25/2019 ..\n",
      "content :  Washington, DC – U.S. Trade Representative Robert Lighthizer today issued the following statement r ..\n",
      "url : https://ustr.gov/about-us/policy-offices/press-office/press-releases/2019/january/ustr-robert-lighth ..\n",
      "scrap_time : 2019-02-01-04 07:39:25 ..\n",
      "\n",
      "\n",
      "title : Statements by the United States at the January 11, 2019, DSB Meeting ..\n",
      "time : 01/11/2019 ..\n",
      "content :  Statements by the United States at the Meeting of the WTO Dispute Settlement Body as delivered in G ..\n",
      "url : https://ustr.gov/about-us/policy-offices/press-office/press-releases/2019/january/statements-united- ..\n",
      "scrap_time : 2019-02-01-04 07:39:26 ..\n",
      "\n",
      "\n"
     ]
    }
   ],
   "source": [
    "def pprint(json_object):\n",
    "    for k, v in json_object.items():\n",
    "        print('{} : {} ..'.format(k, str(v)[:100]))\n",
    "    print('\\n')\n",
    "\n",
    "SLEEP = 0.5\n",
    "\n",
    "for url in USTR_urls[:5]:\n",
    "    json_object = parse_page(url)\n",
    "    pprint(json_object)"
   ]
  },
  {
   "cell_type": "code",
   "execution_count": 6,
   "metadata": {},
   "outputs": [
    {
     "name": "stdout",
     "output_type": "stream",
     "text": [
      "[1 / 10] (01/29/2019) USTR Statement on the EU’s Consultation Request at the WTO\n",
      "[2 / 10] (01/28/2019) Public Hearing on Negotiating Objectives for U.S.-UK Trade Agreement\n",
      "[3 / 10] (01/26/2019) USTR Operating Status\n",
      "[4 / 10] (01/25/2019) USTR Robert Lighthizer on the Joint Statement on Electronic Commerce\n",
      "[5 / 10] (01/11/2019) Statements by the United States at the January 11, 2019, DSB Meeting\n",
      "[6 / 10] (01/09/2019) Statement on the United States Trade Delegation’s Meetings in Beijing\n",
      "[7 / 10] (01/09/2019) Joint Statement of the Trilateral Meeting of the Trade Ministers of the European Union, Japan and the United States \n",
      "[8 / 10] (01/04/2019) Statement Regarding the United States Delegation to China\n",
      "[9 / 10] (01/04/2019) USTR Requests First-Ever Environment Consultations Under the U.S.-Peru Trade Promotion Agreement (PTPA)\n",
      "[10 / 10] (12/21/2018) USTR Grants First Round of Product Exclusions\n"
     ]
    }
   ],
   "source": [
    "from USTR_scraper import yield_latest_allnews\n",
    "\n",
    "begin_date = '2018-12-01'\n",
    "max_num = 10\n",
    "sleep = 1.0\n",
    "\n",
    "for i, json_obj in enumerate(yield_latest_allnews(begin_date, max_num, sleep)):\n",
    "    title = json_obj['title']\n",
    "    time = json_obj['time']\n",
    "    print('[{} / {}] ({}) {}'.format(i+1, max_num, time, title))"
   ]
  }
 ],
 "metadata": {
  "kernelspec": {
   "display_name": "Python 3",
   "language": "python",
   "name": "python3"
  },
  "language_info": {
   "codemirror_mode": {
    "name": "ipython",
    "version": 3
   },
   "file_extension": ".py",
   "mimetype": "text/x-python",
   "name": "python",
   "nbconvert_exporter": "python",
   "pygments_lexer": "ipython3",
   "version": "3.6.5"
  },
  "varInspector": {
   "cols": {
    "lenName": 16,
    "lenType": 16,
    "lenVar": 40
   },
   "kernels_config": {
    "python": {
     "delete_cmd_postfix": "",
     "delete_cmd_prefix": "del ",
     "library": "var_list.py",
     "varRefreshCmd": "print(var_dic_list())"
    },
    "r": {
     "delete_cmd_postfix": ") ",
     "delete_cmd_prefix": "rm(",
     "library": "var_list.r",
     "varRefreshCmd": "cat(var_dic_list()) "
    }
   },
   "oldHeight": 122.545454,
   "position": {
    "height": "144px",
    "left": "1021.45px",
    "right": "20px",
    "top": "89px",
    "width": "249px"
   },
   "types_to_exclude": [
    "module",
    "function",
    "builtin_function_or_method",
    "instance",
    "_Feature"
   ],
   "varInspector_section_display": "block",
   "window_display": true
  }
 },
 "nbformat": 4,
 "nbformat_minor": 2
}
